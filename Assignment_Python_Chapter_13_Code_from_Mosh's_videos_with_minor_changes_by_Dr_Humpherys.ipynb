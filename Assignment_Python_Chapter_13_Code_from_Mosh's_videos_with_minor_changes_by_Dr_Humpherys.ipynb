{
  "nbformat": 4,
  "nbformat_minor": 0,
  "metadata": {
    "colab": {
      "name": "Assignment Python Chapter 13 Code from Mosh's videos with minor changes by Dr. Humpherys.ipynb",
      "provenance": [],
      "collapsed_sections": []
    },
    "kernelspec": {
      "name": "python3",
      "display_name": "Python 3"
    }
  },
  "cells": [
    {
      "cell_type": "markdown",
      "metadata": {
        "id": "FLrasug_2fYz"
      },
      "source": [
        "#Learning Task A: \n",
        "1. Watch the Mosh videos in Chapter 13 to understand machine learning. But do NOT install anything locally on your computer. \n",
        "2. While watching the Mosh videos, run each box of code in this Google's Colab.research.google.com. \n",
        "3. Feel free to change the code and experiment. Your changes will only impact you and not any other student. \n",
        "\n",
        "You will not turn in Task A. It’s for practice only and the code is provided for you. \n",
        "\n"
      ]
    },
    {
      "cell_type": "markdown",
      "metadata": {
        "id": "p4gkLfaTSMLo"
      },
      "source": [
        "# Useful Jupyter Shortcuts\n",
        "Some slight difference exist between a local verion of Jupyter notebooks and the online, Google's Jupyter notebook called collab.research.google. Here are the useful shortcuts for working in Jupyter Notebooks on Colab.research.google. com. Google's Colab is freely available to anyone with a Google account. \n",
        "```\n",
        "CTRL-Enter        run code in the current cell\n",
        "CTRL-/     convert line of code to comment or uncomment\n",
        "CTRL-M B   insert cell below (hold control key while you tap m key then tap b key)\n",
        "CTRL-M A   insert cell above\n",
        "CTRL-M D   delete current cell\n",
        "CTRL-S     Save\n",
        "ESC        Escapes and exits the command cell or text cell\n",
        "```\n",
        "\n",
        "\n"
      ]
    },
    {
      "cell_type": "markdown",
      "metadata": {
        "id": "e2VMil5rrgBD"
      },
      "source": [
        "#Chapter 13.1 and 3.2\n",
        "There is no code from Chapter 13.1 and 13.2."
      ]
    },
    {
      "cell_type": "markdown",
      "metadata": {
        "id": "ZX_G6reZ2Xya"
      },
      "source": [
        "# Chapter 13.3 Libraries and Tools\n",
        "To run the code, hover over the `[  ]` brackets and click the round, play button."
      ]
    },
    {
      "cell_type": "code",
      "metadata": {
        "id": "ihTws_BSwjHg",
        "colab": {
          "base_uri": "https://localhost:8080/"
        },
        "outputId": "2e0c0125-303a-43f3-a7e1-49393d6c31e7"
      },
      "source": [
        "print(\"Hello World\")\n"
      ],
      "execution_count": 2,
      "outputs": [
        {
          "output_type": "stream",
          "name": "stdout",
          "text": [
            "Hello World\n"
          ]
        }
      ]
    },
    {
      "cell_type": "markdown",
      "metadata": {
        "id": "SB5mNqd9SCK9"
      },
      "source": [
        "# Chapter 13.4 Importing a Data Set"
      ]
    },
    {
      "cell_type": "markdown",
      "metadata": {
        "id": "Aoz4vhMMS6nb"
      },
      "source": [
        ""
      ]
    },
    {
      "cell_type": "code",
      "metadata": {
        "id": "oZazj2VnzIXi",
        "colab": {
          "base_uri": "https://localhost:8080/"
        },
        "outputId": "5399a28d-c030-460e-bd7e-0ac867ca5544"
      },
      "source": [
        "import pandas as pd\n",
        "# The file is stored on Dr H.'s github repo. You can read the file directly as follows. \n",
        "url = \"https://raw.githubusercontent.com/sean-humpherys/6303-assignment-python-chapter13-starter/main/music.csv\"\n",
        "df = pd.read_csv(url)\n",
        "df.shape\n"
      ],
      "execution_count": null,
      "outputs": [
        {
          "output_type": "execute_result",
          "data": {
            "text/plain": [
              "(18, 3)"
            ]
          },
          "metadata": {
            "tags": []
          },
          "execution_count": 13
        }
      ]
    },
    {
      "cell_type": "code",
      "metadata": {
        "id": "v0_fZnNiRv5w",
        "colab": {
          "base_uri": "https://localhost:8080/",
          "height": 297
        },
        "outputId": "fd43b3c7-55a6-497f-ac0d-287276e3e668"
      },
      "source": [
        "df.describe() # show basic statistics\n"
      ],
      "execution_count": null,
      "outputs": [
        {
          "output_type": "execute_result",
          "data": {
            "text/html": [
              "<div>\n",
              "<style scoped>\n",
              "    .dataframe tbody tr th:only-of-type {\n",
              "        vertical-align: middle;\n",
              "    }\n",
              "\n",
              "    .dataframe tbody tr th {\n",
              "        vertical-align: top;\n",
              "    }\n",
              "\n",
              "    .dataframe thead th {\n",
              "        text-align: right;\n",
              "    }\n",
              "</style>\n",
              "<table border=\"1\" class=\"dataframe\">\n",
              "  <thead>\n",
              "    <tr style=\"text-align: right;\">\n",
              "      <th></th>\n",
              "      <th>age</th>\n",
              "      <th>gender</th>\n",
              "    </tr>\n",
              "  </thead>\n",
              "  <tbody>\n",
              "    <tr>\n",
              "      <th>count</th>\n",
              "      <td>18.000000</td>\n",
              "      <td>18.000000</td>\n",
              "    </tr>\n",
              "    <tr>\n",
              "      <th>mean</th>\n",
              "      <td>27.944444</td>\n",
              "      <td>0.500000</td>\n",
              "    </tr>\n",
              "    <tr>\n",
              "      <th>std</th>\n",
              "      <td>5.127460</td>\n",
              "      <td>0.514496</td>\n",
              "    </tr>\n",
              "    <tr>\n",
              "      <th>min</th>\n",
              "      <td>20.000000</td>\n",
              "      <td>0.000000</td>\n",
              "    </tr>\n",
              "    <tr>\n",
              "      <th>25%</th>\n",
              "      <td>25.000000</td>\n",
              "      <td>0.000000</td>\n",
              "    </tr>\n",
              "    <tr>\n",
              "      <th>50%</th>\n",
              "      <td>28.000000</td>\n",
              "      <td>0.500000</td>\n",
              "    </tr>\n",
              "    <tr>\n",
              "      <th>75%</th>\n",
              "      <td>31.000000</td>\n",
              "      <td>1.000000</td>\n",
              "    </tr>\n",
              "    <tr>\n",
              "      <th>max</th>\n",
              "      <td>37.000000</td>\n",
              "      <td>1.000000</td>\n",
              "    </tr>\n",
              "  </tbody>\n",
              "</table>\n",
              "</div>"
            ],
            "text/plain": [
              "             age     gender\n",
              "count  18.000000  18.000000\n",
              "mean   27.944444   0.500000\n",
              "std     5.127460   0.514496\n",
              "min    20.000000   0.000000\n",
              "25%    25.000000   0.000000\n",
              "50%    28.000000   0.500000\n",
              "75%    31.000000   1.000000\n",
              "max    37.000000   1.000000"
            ]
          },
          "metadata": {
            "tags": []
          },
          "execution_count": 14
        }
      ]
    },
    {
      "cell_type": "code",
      "metadata": {
        "id": "xX0XAIUrR70E"
      },
      "source": [
        "df.values"
      ],
      "execution_count": null,
      "outputs": []
    },
    {
      "cell_type": "markdown",
      "metadata": {
        "id": "OVeeZp79TV2e"
      },
      "source": [
        "# Chapter 13.6"
      ]
    },
    {
      "cell_type": "code",
      "metadata": {
        "id": "z6fMxmH4Sd75",
        "colab": {
          "base_uri": "https://localhost:8080/",
          "height": 607
        },
        "outputId": "db48d8eb-6bf3-4e28-f091-c427979a44dc"
      },
      "source": [
        "import pandas as pd\n",
        "# The file is stored on Dr H.'s github repo. You can read the file directly as follows. \n",
        "url = \"https://raw.githubusercontent.com/sean-humpherys/6303-assignment-python-chapter13-starter/main/music.csv\"\n",
        "music_data = pd.read_csv(url)\n",
        "music_data"
      ],
      "execution_count": null,
      "outputs": [
        {
          "output_type": "execute_result",
          "data": {
            "text/html": [
              "<div>\n",
              "<style scoped>\n",
              "    .dataframe tbody tr th:only-of-type {\n",
              "        vertical-align: middle;\n",
              "    }\n",
              "\n",
              "    .dataframe tbody tr th {\n",
              "        vertical-align: top;\n",
              "    }\n",
              "\n",
              "    .dataframe thead th {\n",
              "        text-align: right;\n",
              "    }\n",
              "</style>\n",
              "<table border=\"1\" class=\"dataframe\">\n",
              "  <thead>\n",
              "    <tr style=\"text-align: right;\">\n",
              "      <th></th>\n",
              "      <th>age</th>\n",
              "      <th>gender</th>\n",
              "      <th>genre</th>\n",
              "    </tr>\n",
              "  </thead>\n",
              "  <tbody>\n",
              "    <tr>\n",
              "      <th>0</th>\n",
              "      <td>20</td>\n",
              "      <td>1</td>\n",
              "      <td>HipHop</td>\n",
              "    </tr>\n",
              "    <tr>\n",
              "      <th>1</th>\n",
              "      <td>23</td>\n",
              "      <td>1</td>\n",
              "      <td>HipHop</td>\n",
              "    </tr>\n",
              "    <tr>\n",
              "      <th>2</th>\n",
              "      <td>25</td>\n",
              "      <td>1</td>\n",
              "      <td>HipHop</td>\n",
              "    </tr>\n",
              "    <tr>\n",
              "      <th>3</th>\n",
              "      <td>26</td>\n",
              "      <td>1</td>\n",
              "      <td>Jazz</td>\n",
              "    </tr>\n",
              "    <tr>\n",
              "      <th>4</th>\n",
              "      <td>29</td>\n",
              "      <td>1</td>\n",
              "      <td>Jazz</td>\n",
              "    </tr>\n",
              "    <tr>\n",
              "      <th>5</th>\n",
              "      <td>30</td>\n",
              "      <td>1</td>\n",
              "      <td>Jazz</td>\n",
              "    </tr>\n",
              "    <tr>\n",
              "      <th>6</th>\n",
              "      <td>31</td>\n",
              "      <td>1</td>\n",
              "      <td>Classical</td>\n",
              "    </tr>\n",
              "    <tr>\n",
              "      <th>7</th>\n",
              "      <td>33</td>\n",
              "      <td>1</td>\n",
              "      <td>Classical</td>\n",
              "    </tr>\n",
              "    <tr>\n",
              "      <th>8</th>\n",
              "      <td>37</td>\n",
              "      <td>1</td>\n",
              "      <td>Classical</td>\n",
              "    </tr>\n",
              "    <tr>\n",
              "      <th>9</th>\n",
              "      <td>20</td>\n",
              "      <td>0</td>\n",
              "      <td>Dance</td>\n",
              "    </tr>\n",
              "    <tr>\n",
              "      <th>10</th>\n",
              "      <td>21</td>\n",
              "      <td>0</td>\n",
              "      <td>Dance</td>\n",
              "    </tr>\n",
              "    <tr>\n",
              "      <th>11</th>\n",
              "      <td>25</td>\n",
              "      <td>0</td>\n",
              "      <td>Dance</td>\n",
              "    </tr>\n",
              "    <tr>\n",
              "      <th>12</th>\n",
              "      <td>26</td>\n",
              "      <td>0</td>\n",
              "      <td>Acoustic</td>\n",
              "    </tr>\n",
              "    <tr>\n",
              "      <th>13</th>\n",
              "      <td>27</td>\n",
              "      <td>0</td>\n",
              "      <td>Acoustic</td>\n",
              "    </tr>\n",
              "    <tr>\n",
              "      <th>14</th>\n",
              "      <td>30</td>\n",
              "      <td>0</td>\n",
              "      <td>Acoustic</td>\n",
              "    </tr>\n",
              "    <tr>\n",
              "      <th>15</th>\n",
              "      <td>31</td>\n",
              "      <td>0</td>\n",
              "      <td>Classical</td>\n",
              "    </tr>\n",
              "    <tr>\n",
              "      <th>16</th>\n",
              "      <td>34</td>\n",
              "      <td>0</td>\n",
              "      <td>Classical</td>\n",
              "    </tr>\n",
              "    <tr>\n",
              "      <th>17</th>\n",
              "      <td>35</td>\n",
              "      <td>0</td>\n",
              "      <td>Classical</td>\n",
              "    </tr>\n",
              "  </tbody>\n",
              "</table>\n",
              "</div>"
            ],
            "text/plain": [
              "    age  gender      genre\n",
              "0    20       1     HipHop\n",
              "1    23       1     HipHop\n",
              "2    25       1     HipHop\n",
              "3    26       1       Jazz\n",
              "4    29       1       Jazz\n",
              "5    30       1       Jazz\n",
              "6    31       1  Classical\n",
              "7    33       1  Classical\n",
              "8    37       1  Classical\n",
              "9    20       0      Dance\n",
              "10   21       0      Dance\n",
              "11   25       0      Dance\n",
              "12   26       0   Acoustic\n",
              "13   27       0   Acoustic\n",
              "14   30       0   Acoustic\n",
              "15   31       0  Classical\n",
              "16   34       0  Classical\n",
              "17   35       0  Classical"
            ]
          },
          "metadata": {
            "tags": []
          },
          "execution_count": 16
        }
      ]
    },
    {
      "cell_type": "markdown",
      "metadata": {
        "id": "nDhzyg8JTe-O"
      },
      "source": [
        "# Chapter 13.7"
      ]
    },
    {
      "cell_type": "markdown",
      "metadata": {
        "id": "wIqT9889Tg9N"
      },
      "source": [
        ""
      ]
    },
    {
      "cell_type": "code",
      "metadata": {
        "id": "JDVCmotRTdkD",
        "colab": {
          "base_uri": "https://localhost:8080/"
        },
        "outputId": "7498a111-0117-4a00-90d1-b0730a42e3d8"
      },
      "source": [
        "import pandas as pd\n",
        "url = \"https://raw.githubusercontent.com/sean-humpherys/6303-assignment-python-chapter13-starter/main/music.csv\"\n",
        "music_data = pd.read_csv(url)\n",
        "X = music_data.drop(columns=['genre'])\n",
        "X\n",
        "y = music_data['genre']           \n",
        "y"
      ],
      "execution_count": null,
      "outputs": [
        {
          "output_type": "execute_result",
          "data": {
            "text/plain": [
              "0        HipHop\n",
              "1        HipHop\n",
              "2        HipHop\n",
              "3          Jazz\n",
              "4          Jazz\n",
              "5          Jazz\n",
              "6     Classical\n",
              "7     Classical\n",
              "8     Classical\n",
              "9         Dance\n",
              "10        Dance\n",
              "11        Dance\n",
              "12     Acoustic\n",
              "13     Acoustic\n",
              "14     Acoustic\n",
              "15    Classical\n",
              "16    Classical\n",
              "17    Classical\n",
              "Name: genre, dtype: object"
            ]
          },
          "metadata": {
            "tags": []
          },
          "execution_count": 5
        }
      ]
    },
    {
      "cell_type": "markdown",
      "metadata": {
        "id": "V3y9ahl3UMj1"
      },
      "source": [
        "# Chapter 13.8 Learning and Predicting"
      ]
    },
    {
      "cell_type": "code",
      "metadata": {
        "id": "5BPt1LuYUQag",
        "colab": {
          "base_uri": "https://localhost:8080/"
        },
        "outputId": "38006905-1f9a-438d-b9ad-a063177bb766"
      },
      "source": [
        "import pandas as pd\n",
        "from sklearn.tree import DecisionTreeClassifier\n",
        "url = \"https://raw.githubusercontent.com/sean-humpherys/6303-assignment-python-chapter13-starter/main/music.csv\"\n",
        "music_data = pd.read_csv(url)\n",
        "X = music_data.drop(columns=['genre'])\n",
        "y = music_data['genre']\n",
        "\n",
        "model = DecisionTreeClassifier()\n",
        "model.fit(X, y)\n",
        "new_data = [[21, 1], [22, 0] ]\n",
        "predictions = model.predict(new_data)\n",
        "predictions\n",
        "print(f\"21 year old male likes {predictions[0]}\")\n",
        "print(f\"22 year old male likes {predictions[1]}\")"
      ],
      "execution_count": null,
      "outputs": [
        {
          "output_type": "stream",
          "text": [
            "21 year old male likes HipHop\n",
            "22 year old male likes Dance\n"
          ],
          "name": "stdout"
        }
      ]
    },
    {
      "cell_type": "markdown",
      "metadata": {
        "id": "7E-GMvtPV3Qn"
      },
      "source": [
        "# Chapter 13.9 Calculating the Accuracy"
      ]
    },
    {
      "cell_type": "code",
      "metadata": {
        "id": "LHzei-IAV8an",
        "colab": {
          "base_uri": "https://localhost:8080/"
        },
        "outputId": "ee32c4f4-7372-4900-c59c-775396377771"
      },
      "source": [
        "import pandas as pd\n",
        "from sklearn.tree import DecisionTreeClassifier\n",
        "from sklearn.model_selection import train_test_split\n",
        "from sklearn.metrics import accuracy_score\n",
        "\n",
        "# Get data and clean data and split data into training and testing sets\n",
        "url = \"https://raw.githubusercontent.com/sean-humpherys/6303-assignment-python-chapter13-starter/main/music.csv\"\n",
        "music_data = pd.read_csv(url)\n",
        "X = music_data.drop(columns=['genre']) # genre is the predictor variable and not needed in the independent variables.\n",
        "y = music_data['genre'] # genre is the predictor variable and needed in the y dataset.\n",
        "#split the data into four testing and training datasets by unpack the tuple into four variables using train_test_split() function\n",
        "X_train, X_test, y_train, y_test = train_test_split(X, y, test_size=0.2) # 0.2 means 20% of the data will be for testing, 80% for training\n",
        "\n",
        "# Learn from data. Fit a model\n",
        "model = DecisionTreeClassifier()\n",
        "model.fit(X_train, y_train)  # Learn from the training data X_train and y_train\n",
        "\n",
        "# make predictions on the X_test data set\n",
        "predictions = model.predict(X_test)  \n",
        "score = accuracy_score(y_test, predictions)   # verify the actual answers (y_test) with the predicted answers (X_test)\n",
        "score\n",
        "\n",
        "# Run this code six or seven times and you should observe the accuracy score varies. \n",
        "# Why? Becuase the train_test_split() splits the data randomly each time the code runs. \n",
        "# Some random splits let the machine algorithm learn better than other random splits. \n",
        "# Learning depends on the data we provide. If we provide poor data, the machine learns poorly.\n",
        "# The more data we can provide, the better the machine can learn from it.   "
      ],
      "execution_count": null,
      "outputs": [
        {
          "output_type": "execute_result",
          "data": {
            "text/plain": [
              "0.75"
            ]
          },
          "metadata": {
            "tags": []
          },
          "execution_count": 17
        }
      ]
    },
    {
      "cell_type": "markdown",
      "metadata": {
        "id": "RUf4c9tMYGzd"
      },
      "source": [
        "# Chapter 13.10 Persisting Models"
      ]
    },
    {
      "cell_type": "code",
      "metadata": {
        "id": "MogZCUTdYA1g"
      },
      "source": [
        "import pandas as pd\n",
        "from sklearn.tree import DecisionTreeClassifier\n",
        "# from sklearn.externals import joblib  #Old, depreciated command\n",
        "import joblib  # new, and current command\n",
        "\n",
        "# Get data and clean data and split data into training and testing sets\n",
        "url = \"https://raw.githubusercontent.com/sean-humpherys/6303-assignment-python-chapter13-starter/main/music.csv\"\n",
        "music_data = pd.read_csv(url)\n",
        "X = music_data.drop(columns=['genre'])\n",
        "y = music_data['genre']\n",
        "\n",
        "# Learn from data. Fit a model\n",
        "model = DecisionTreeClassifier()\n",
        "model.fit(X, y)  \n",
        "\n",
        "joblib.dump(model, 'music-recommender.joblib')\n",
        "\n"
      ],
      "execution_count": null,
      "outputs": []
    },
    {
      "cell_type": "code",
      "metadata": {
        "id": "gxTyul3uZDAC"
      },
      "source": [
        "# Load the saved model and make a prediction on new data\n",
        "model = joblib.load('music-recommender.joblib')\n",
        "predictions = model.predict([[21, 1]])\n",
        "predictions"
      ],
      "execution_count": null,
      "outputs": []
    },
    {
      "cell_type": "markdown",
      "metadata": {
        "id": "eFAyDJ-RZhXv"
      },
      "source": [
        "# Chapter 13.11 Visualizing a Decision Tree\n",
        "Dr. Humpherys' code here is slightly different than Mosh's code. Please note the differences. Dr. H.'s code can visualize a decision tree inside the Notebook. Mosh's videos still does a good job explaining the tree and concepts. "
      ]
    },
    {
      "cell_type": "code",
      "metadata": {
        "id": "VG5QYSbHZlFe"
      },
      "source": [
        "from sklearn import tree\n",
        "\n",
        "\n",
        "# This is Mosh's code but requires you to use VS Code to view .dot files. There's a better alternative.\n",
        "# tree.export_graphviz(model, \n",
        "#                      out_file='music-recommender.dot', \n",
        "#                      feature_names=['age', 'gender'], \n",
        "#                      class_names = sorted(y.unique()), \n",
        "#                      label='all', \n",
        "#                      rounded=True, \n",
        "#                      filled=True\n",
        "#                      )\n",
        "\n",
        "# Dr. Humpherys' code for visualizing decision trees in Jupyter Notepad\n",
        "# Read more at https://mljar.com/blog/visualize-decision-tree/\n",
        "# out_file=None means don't save the .dot file to disk\n",
        "# feature_names is the list of all the column names, except the predicted variable\n",
        "# class_names is the list of values of the predicted variable\n",
        "# filled=True means color the boxes based on predicted values\n",
        "\n",
        "tree_data = tree.export_graphviz(model, \n",
        "                     out_file=None, \n",
        "                     feature_names=['age', 'gender'], \n",
        "                     class_names = sorted(y.unique()), \n",
        "                     label='all', \n",
        "                     rounded=True, \n",
        "                     filled=True\n",
        "                     )\n",
        "\n",
        "import graphviz\n",
        "graph = graphviz.Source(tree_data, format=\"png\")\n",
        "graph"
      ],
      "execution_count": null,
      "outputs": []
    },
    {
      "cell_type": "markdown",
      "metadata": {
        "id": "98MZ5r2a1bZV"
      },
      "source": [
        "# Chapter 13.12 What to learn next\n",
        "There is no code in Chapter 13.12 and 13.13. Enjoy learning. Done. "
      ]
    },
    {
      "cell_type": "markdown",
      "metadata": {
        "id": "L_Q6panNtByk"
      },
      "source": [
        "#Return to the Assignment Python Chapter 13 instructions\n",
        "Proceed to Task B in the Assignment Python Chapter 13 instructions.\n",
        "https://docs.google.com/document/d/1ly6v61bn-C3y-wMwdw6HTbccch5eIOBnPyi8yw4uITs/edit#heading=h.cjh12khb6a3f\n",
        "\n"
      ]
    }
  ]
}